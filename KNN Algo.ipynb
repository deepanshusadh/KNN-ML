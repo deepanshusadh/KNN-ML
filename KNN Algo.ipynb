{
 "cells": [
  {
   "cell_type": "code",
   "execution_count": null,
   "metadata": {},
   "outputs": [],
   "source": [
    "def Edist(x1,x2):\n",
    "    return np.sqrt((x1-x2)**2)\n",
    "\n",
    "def KNN(X,Y,query,k=5):\n",
    "    \n",
    "    vals=[]\n",
    "    m=X.shape[0]\n",
    "    for i in range(m):\n",
    "        d=Edist(query,X[i])\n",
    "        vals.append(d,Y[i])\n",
    "        \n",
    "    vals=sorted(vals)\n",
    "    vals=vals[:k]\n",
    "    \n",
    "    Vals_with_index=np.unique(vals[:,1],return_counts=True)\n",
    "    index=(vals_with_index[1]).argmax\n",
    "    prediction=vals_with_index[0][index]\n",
    "    \n",
    "    return prediction\n",
    "        \n",
    "        "
   ]
  },
  {
   "cell_type": "code",
   "execution_count": 1,
   "metadata": {},
   "outputs": [
    {
     "data": {
      "text/plain": [
       "[[4, 5], [5, 6]]"
      ]
     },
     "execution_count": 1,
     "metadata": {},
     "output_type": "execute_result"
    }
   ],
   "source": [
    "A=[[4,5],[5,6],[7,8]]\n",
    "A[:2]"
   ]
  },
  {
   "cell_type": "code",
   "execution_count": null,
   "metadata": {},
   "outputs": [],
   "source": []
  }
 ],
 "metadata": {
  "kernelspec": {
   "display_name": "Python 3",
   "language": "python",
   "name": "python3"
  },
  "language_info": {
   "codemirror_mode": {
    "name": "ipython",
    "version": 3
   },
   "file_extension": ".py",
   "mimetype": "text/x-python",
   "name": "python",
   "nbconvert_exporter": "python",
   "pygments_lexer": "ipython3",
   "version": "3.7.3"
  }
 },
 "nbformat": 4,
 "nbformat_minor": 2
}
